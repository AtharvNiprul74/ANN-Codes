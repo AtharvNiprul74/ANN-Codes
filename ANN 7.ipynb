{
  "nbformat": 4,
  "nbformat_minor": 0,
  "metadata": {
    "colab": {
      "provenance": [],
      "authorship_tag": "ABX9TyN+2XaQsLFSDTHYmZNPfmo3",
      "include_colab_link": true
    },
    "kernelspec": {
      "name": "python3",
      "display_name": "Python 3"
    },
    "language_info": {
      "name": "python"
    }
  },
  "cells": [
    {
      "cell_type": "markdown",
      "metadata": {
        "id": "view-in-github",
        "colab_type": "text"
      },
      "source": [
        "<a href=\"https://colab.research.google.com/github/AtharvNiprul74/ANN-Codes/blob/main/ANN%207.ipynb\" target=\"_parent\"><img src=\"https://colab.research.google.com/assets/colab-badge.svg\" alt=\"Open In Colab\"/></a>"
      ]
    },
    {
      "cell_type": "markdown",
      "source": [
        "**House Price Pridction using LLS.**"
      ],
      "metadata": {
        "id": "wdQdxesIGPWC"
      }
    },
    {
      "cell_type": "code",
      "source": [
        "import numpy as np\n",
        "\n",
        "# features for house prices\n",
        "house_info=np.array([\n",
        "    [850,2],\n",
        "    [900,2],\n",
        "    [1000,3],\n",
        "    [1370,3],\n",
        "    [1400,3],\n",
        "    [1750,4],\n",
        "    [1800,4],\n",
        "    [2000,4],\n",
        "    [2100,5],\n",
        "    [2250,5],\n",
        "])\n",
        "\n",
        "house_prices=np.array([\n",
        "    90,95,110,140,160,200,230,240,255,260,\n",
        "])\n",
        "\n",
        "x=np.array(house_info)\n",
        "y=np.array(house_prices)\n",
        "\n",
        "x_bias=np.c_[np.ones((x.shape[0],1)),x]\n",
        "\n",
        "optimal_weights=np.dot(np.dot(np.linalg.inv(np.dot(x_bias.T,x_bias)),x_bias.T),y)\n",
        "\n",
        "print(f\"Final Weight:{optimal_weights}\")\n",
        "\n",
        "# prediction\n",
        "new_house=np.insert([850,2],0,1)\n",
        "pred=np.dot(new_house,optimal_weights)\n",
        "print(pred)\n",
        "\n"
      ],
      "metadata": {
        "colab": {
          "base_uri": "https://localhost:8080/"
        },
        "id": "k17unc4xGO9i",
        "outputId": "9cc3d3ff-0f47-436f-a777-b3e9162dc0cb"
      },
      "execution_count": null,
      "outputs": [
        {
          "output_type": "stream",
          "name": "stdout",
          "text": [
            "Final Weight:[-23.58428428   0.12345821   3.20334788]\n",
            "87.76189377412832\n"
          ]
        }
      ]
    },
    {
      "cell_type": "markdown",
      "source": [
        "**House Price pridection using Gradient Descent**"
      ],
      "metadata": {
        "id": "E_wH0zmTPVeB"
      }
    },
    {
      "cell_type": "code",
      "source": [
        "import numpy as np\n",
        "\n",
        "house_info=np.array([\n",
        "    [850,2],\n",
        "    [900,2],\n",
        "    [1000,3],\n",
        "    [1370,3],\n",
        "    [1400,3],\n",
        "    [1750,4],\n",
        "    [1800,4],\n",
        "    [2000,4],\n",
        "    [2100,5],\n",
        "    [2250,5],\n",
        "])\n",
        "\n",
        "house_prices=np.array([\n",
        "    90,95,110,140,160,200,230,240,255,260\n",
        "])\n",
        "\n",
        "mean=np.mean(house_info,axis=0)\n",
        "std=np.std(house_info,axis=0)\n",
        "house_info_normalized=(house_info-mean)/std\n",
        "\n",
        "X=np.c_[np.ones((house_info_normalized.shape[0],1)),house_info_normalized]\n",
        "y=house_prices\n",
        "\n",
        "learning_rate=0.02\n",
        "epochs=1000\n",
        "\n",
        "weights=np.zeros(X.shape[1])\n",
        "\n",
        "for i in range(epochs):\n",
        "  y_pred=np.dot(X,weights)\n",
        "  loss=y_pred-y\n",
        "  grad=(1/len(y))*np.dot(X.T,loss)\n",
        "  weights=weights-learning_rate*grad\n",
        "\n",
        "  # if i%100==0:\n",
        "  #   print(f\"Epoch:{i},Loss:{loss}\")\n",
        "\n",
        "print(f\"Optimal Weights{weights}\")\n",
        "\n",
        "new_house=np.array([850,2])\n",
        "new_house_normalized=(new_house-mean)/std\n",
        "new_house_normalized_bias=np.insert(new_house_normalized,0,1)\n",
        "pred=np.dot(new_house_normalized_bias,weights)\n",
        "print(f\"Predicted Price:{pred}\")"
      ],
      "metadata": {
        "colab": {
          "base_uri": "https://localhost:8080/"
        },
        "id": "7FpqIQRdPek_",
        "outputId": "d69c3daf-52fd-4e7c-8b55-adfb15ea8484"
      },
      "execution_count": null,
      "outputs": [
        {
          "output_type": "stream",
          "name": "stdout",
          "text": [
            "Optimal Weights[177.9999997   47.08594589  16.25813722]\n",
            "Predicted Price:87.22435772492477\n"
          ]
        }
      ]
    },
    {
      "cell_type": "markdown",
      "source": [
        "**House Predction using L2 regularization**"
      ],
      "metadata": {
        "id": "o4yFG90Ee6kE"
      }
    },
    {
      "cell_type": "code",
      "source": [
        "import numpy as np\n",
        "\n",
        "# features for house prices\n",
        "house_info=np.array([\n",
        "    [850,2],\n",
        "    [900,2],\n",
        "    [1000,3],\n",
        "    [1370,3],\n",
        "    [1400,3],\n",
        "    [1750,4],\n",
        "    [1800,4],\n",
        "    [2000,4],\n",
        "    [2100,5],\n",
        "    [2250,5]\n",
        "])\n",
        "\n",
        "house_prices=np.array([\n",
        "    90,95,110,140,160,200,230,240,255,260\n",
        "])\n",
        "\n",
        "mean=np.mean(house_info,axis=0)\n",
        "std=np.std(house_info,axis=0)\n",
        "house_info_normalized=(house_info-mean)/std\n",
        "\n",
        "X=np.c_[np.ones((house_info_normalized.shape[0],1)),house_info_normalized]\n",
        "y=house_prices\n",
        "\n",
        "learning_rate=0.01\n",
        "epochs=2000\n",
        "lambda_reg=0.01\n",
        "\n",
        "weights=np.zeros(X.shape[1])\n",
        "\n",
        "for i in range(epochs):\n",
        "  grad=(1/len(y))*np.dot(X.T,(np.dot(X,weights)-y))+(lambda_reg/len(y))*weights\n",
        "  weights=weights-learning_rate*grad\n",
        "\n",
        "print(f\"Optimal Weights with regularization:{weights}\")\n",
        "\n",
        "new_house=np.array([850,2])\n",
        "new_house_normalized=(new_house-mean)/std\n",
        "new_house_normalized_bias=np.insert(new_house_normalized,0,1)\n",
        "pred=np.dot(new_house_normalized_bias,weights)\n",
        "print(f\"Predicted Price:{pred}\")"
      ],
      "metadata": {
        "colab": {
          "base_uri": "https://localhost:8080/"
        },
        "id": "fslnOP2eePJt",
        "outputId": "0b07005a-9d71-4d36-857a-7f6208c7e97e"
      },
      "execution_count": null,
      "outputs": [
        {
          "output_type": "stream",
          "name": "stdout",
          "text": [
            "Optimal Weights with regularization:[177.8221775   46.93445251  16.37734296]\n",
            "Predicted Price:87.08752395777796\n"
          ]
        }
      ]
    }
  ]
}