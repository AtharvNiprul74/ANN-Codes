{
  "nbformat": 4,
  "nbformat_minor": 0,
  "metadata": {
    "colab": {
      "provenance": [],
      "authorship_tag": "ABX9TyMmqvJJekOW2RiwtaCdgl09",
      "include_colab_link": true
    },
    "kernelspec": {
      "name": "python3",
      "display_name": "Python 3"
    },
    "language_info": {
      "name": "python"
    }
  },
  "cells": [
    {
      "cell_type": "markdown",
      "metadata": {
        "id": "view-in-github",
        "colab_type": "text"
      },
      "source": [
        "<a href=\"https://colab.research.google.com/github/AtharvNiprul74/ANN-Codes/blob/main/ANN%209.ipynb\" target=\"_parent\"><img src=\"https://colab.research.google.com/assets/colab-badge.svg\" alt=\"Open In Colab\"/></a>"
      ]
    },
    {
      "cell_type": "markdown",
      "source": [
        "**1.House Price Pridction.**"
      ],
      "metadata": {
        "id": "TxhYildy9HWY"
      }
    },
    {
      "cell_type": "code",
      "execution_count": null,
      "metadata": {
        "id": "qgaDZxaG1kAn",
        "colab": {
          "base_uri": "https://localhost:8080/"
        },
        "outputId": "548cdbe2-4447-4417-90a8-78047144340f"
      },
      "outputs": [
        {
          "output_type": "stream",
          "name": "stdout",
          "text": [
            "Epoch:0,Loss:0.09\n",
            "Epoch:100,Loss:0.06\n",
            "Epoch:200,Loss:0.04\n",
            "Epoch:300,Loss:0.03\n",
            "Epoch:400,Loss:0.02\n",
            "Epoch:500,Loss:0.01\n",
            "Epoch:600,Loss:0.01\n",
            "Epoch:700,Loss:0.01\n",
            "Epoch:800,Loss:0.01\n",
            "Epoch:900,Loss:0.01\n",
            "Epoch:1000,Loss:0.01\n",
            "Epoch:1100,Loss:0.00\n",
            "Epoch:1200,Loss:0.00\n",
            "Epoch:1300,Loss:0.00\n",
            "Epoch:1400,Loss:0.00\n",
            "Epoch:1500,Loss:0.00\n",
            "Epoch:1600,Loss:0.00\n",
            "Epoch:1700,Loss:0.00\n",
            "Epoch:1800,Loss:0.00\n",
            "Epoch:1900,Loss:0.00\n",
            "Predicted Price:6900000.48\n"
          ]
        }
      ],
      "source": [
        "import numpy as np\n",
        "\n",
        "house_data=np.array([\n",
        "    [2,800,0.3],\n",
        "    [3,1200,0.6],\n",
        "    [1,600,0.2],\n",
        "    [4,1800,0.9],\n",
        "    [3,1500,0.7],\n",
        "    [5,2500,0.9],\n",
        "    [2,900,0.4],\n",
        "    [3,1100,0.5],\n",
        "    [4,2000,0.8],\n",
        "    [1,700,0.2]\n",
        "])\n",
        "house_prices=np.array([\n",
        "    [2200000],\n",
        "    [3800000],\n",
        "    [1500000],\n",
        "    [6500000],\n",
        "    [5000000],\n",
        "    [8500000],\n",
        "    [2500000],\n",
        "    [3400000],\n",
        "    [7200000],\n",
        "    [1800000]\n",
        "])\n",
        "\n",
        "\n",
        "house_data_mean=house_data.mean(axis=0)\n",
        "house_data_std=house_data.std(axis=0)\n",
        "X_norm=(house_data - house_data_mean)/house_data_std\n",
        "\n",
        "house_prices_mean=house_prices.mean(axis=0)\n",
        "house_prices_std=house_prices.std(axis=0)\n",
        "y=(house_prices - house_prices_mean)/house_prices_std\n",
        "y=y.flatten()\n",
        "\n",
        "np.random.seed(42)\n",
        "weights=np.random.randn(house_data.shape[1])\n",
        "b=0\n",
        "\n",
        "learning_rate=0.02\n",
        "epochs=2000\n",
        "\n",
        "for epoch in range(epochs):\n",
        "  y_pred=np.dot(X_norm,weights)+b\n",
        "\n",
        "  errors=y_pred-y\n",
        "  loss=np.mean(errors ** 2)\n",
        "\n",
        "  dW=(2/X_norm.shape[0])*np.dot(X_norm.T,errors)\n",
        "  db=(2/X_norm.shape[0])*np.sum(errors)\n",
        "\n",
        "  weights=weights-learning_rate*dW\n",
        "  b=b-learning_rate*db\n",
        "\n",
        "  if epoch % 100==0:\n",
        "    print(f\"Epoch:{epoch},Loss:{loss:.2f}\")\n",
        "\n",
        "new_house=np.array([4,2000,0.8])\n",
        "x_norm=(new_house-house_data_mean)/house_data_std\n",
        "predicted_price=np.dot(x_norm,weights)+b\n",
        "final_pred_price=predicted_price*house_prices_std.item()+house_prices_mean.item()\n",
        "print(f\"Predicted Price:{final_pred_price:.2f}\")\n"
      ]
    },
    {
      "cell_type": "markdown",
      "source": [
        "**2.Email Spam Detection.**"
      ],
      "metadata": {
        "id": "3QBWHOUzFDZY"
      }
    },
    {
      "cell_type": "code",
      "source": [
        "import numpy as np\n",
        "\n",
        "X=np.array(\n",
        "    [\n",
        "        [0.9,0.2,100],\n",
        "        [0.1,0.8,300],\n",
        "        [0.7,0.3,150],\n",
        "        [0.2,0.5,300],\n",
        "        [0.3,0.2,290]\n",
        "    ]\n",
        ")\n",
        "y=np.array([1,0,1,0,1])\n",
        "\n",
        "X_mean=X.mean(axis=0)\n",
        "X_std=X.std(axis=0)\n",
        "X_norm=(X-X_mean)/X_std\n",
        "\n",
        "np.random.seed(42)\n",
        "w=np.random.randn(X.shape[1])\n",
        "b=0\n",
        "\n",
        "def sigmoid(Z):\n",
        "  return 1/(1+np.exp(-Z))\n",
        "\n",
        "def binary_cross_entropy(y,y_pred):\n",
        "  eps=1e-8\n",
        "  y_pred=np.clip(y_pred,eps,1-eps)\n",
        "  return -np.mean(y * np.log(y_pred)+(1-y)*np.log(1-y_pred))\n",
        "\n",
        "learning_rate=0.02\n",
        "epochs=2500\n",
        "\n",
        "for epoch in range(epochs):\n",
        "  Z=np.dot(X_norm,w)+b\n",
        "  y_pred=sigmoid(Z)\n",
        "\n",
        "  loss=binary_cross_entropy(y,y_pred)\n",
        "\n",
        "  error=y_pred-y\n",
        "  dW=np.dot(X_norm.T,error)/X_norm.shape[0]\n",
        "  db=np.sum(error)/X_norm.shape[0]\n",
        "\n",
        "  w=w-learning_rate*dW\n",
        "  b=b-learning_rate*db\n",
        "\n",
        "  if epoch % 500==0:\n",
        "    print(f\"Epoch:{epoch},Loss:{loss:.2f}\")\n",
        "\n",
        "print(w)\n",
        "new_mail=np.array([0.2,0.5,300])\n",
        "new_mail_norm=(new_mail-X_mean)/X_std\n",
        "Z_out=np.dot(new_mail_norm,w)+b\n",
        "pred_prob=sigmoid(Z_out)\n",
        "\n",
        "print(f\"Spam probability:{pred_prob:.4f}\")\n",
        "\n",
        "if pred_prob >= 0.5:\n",
        "  print(\"Spam\")\n",
        "else:\n",
        "  print(\"Not spam\")"
      ],
      "metadata": {
        "colab": {
          "base_uri": "https://localhost:8080/"
        },
        "id": "2U0zTxPmFI2s",
        "outputId": "82246d76-8a63-493c-fcaf-2022b165484f"
      },
      "execution_count": null,
      "outputs": [
        {
          "output_type": "stream",
          "name": "stdout",
          "text": [
            "Epoch:0,Loss:0.67\n",
            "Epoch:500,Loss:0.12\n",
            "Epoch:1000,Loss:0.08\n",
            "Epoch:1500,Loss:0.06\n",
            "Epoch:2000,Loss:0.04\n",
            "[ 1.96397601 -3.14850626 -0.42818158]\n",
            "Spam probability:0.0801\n",
            "Not spam\n"
          ]
        }
      ]
    },
    {
      "cell_type": "markdown",
      "source": [
        "**3.Student Placement Prediction.**\n"
      ],
      "metadata": {
        "id": "Eq9_sebz5SHK"
      }
    },
    {
      "cell_type": "code",
      "source": [
        "import numpy as np\n",
        "\n",
        "student_data=np.array([\n",
        "    [85,88,8.5,110],\n",
        "    [70,65,6.8,95],\n",
        "    [90,92,9.0,120],\n",
        "    [60,58,6.2,90],\n",
        "    [75,80,7.5,105]\n",
        "])\n",
        "\n",
        "placement=np.array([1,0,1,0,1])\n",
        "\n",
        "student_data_norm=(student_data - student_data.mean(axis=0))/student_data.std(axis=0)\n",
        "X=student_data_norm\n",
        "y=placement\n",
        "\n",
        "X_bias=np.c_[np.ones((student_data_norm.shape[0],1)),X]\n",
        "\n",
        "def sigmoid(Z):\n",
        "  return 1/(1+np.exp(-Z))\n",
        "\n",
        "def binary_cross_entropy(y_true,y_pred):\n",
        "  eps=1e-10\n",
        "  y_pred=np.clip(y_pred,eps,1-eps)\n",
        "  return -np.mean(y_true*np.log(y_pred)+(1-y_true)*np.log(1-y_pred))\n",
        "\n",
        "weights=np.zeros(X_bias.shape[1])\n",
        "bias=0\n",
        "learning_rate=0.001\n",
        "epochs=2000\n",
        "\n",
        "for i in range(epochs):\n",
        "  Z=np.dot(X_bias,weights)\n",
        "  y_pred=sigmoid(Z)\n",
        "  error=y_pred - y\n",
        "\n",
        "  grad=np.dot(X_bias.T,error)/len(X_bias)\n",
        "  weights=weights-learning_rate*grad\n",
        "\n",
        "  if i % 500==0:\n",
        "    loss=binary_cross_entropy(y,y_pred)\n",
        "    print(f\"Epoch:{i},Loss:{loss:.4f}\")\n",
        "\n",
        "# print(f\"Weights={weights}\")\n",
        "\n",
        "new_student_data=[60,58,6.2,90]\n",
        "new_student_data_norm=(new_student_data - student_data.mean(axis=0))/student_data.std(axis=0)\n",
        "new_student_data_bias=np.insert(new_student_data_norm,0,1)\n",
        "new_student_data_bias=new_student_data_bias.reshape(1,-1)\n",
        "Z_out=np.dot(new_student_data_bias,weights)\n",
        "pred=sigmoid(Z_out)\n",
        "\n",
        "if pred >= 0.5:\n",
        "  print(f\"Student is Placed.\")\n",
        "else:\n",
        "  print(f\"Student is not Placed.\")"
      ],
      "metadata": {
        "colab": {
          "base_uri": "https://localhost:8080/"
        },
        "id": "EJz0nKVt5hKo",
        "outputId": "4ea108f2-97f2-44d0-e62c-21ccdbbbbb91"
      },
      "execution_count": null,
      "outputs": [
        {
          "output_type": "stream",
          "name": "stdout",
          "text": [
            "Epoch:0,Loss:0.6931\n",
            "Epoch:500,Loss:0.4476\n",
            "Epoch:1000,Loss:0.3396\n",
            "Epoch:1500,Loss:0.2813\n",
            "Student is not Placed.\n"
          ]
        }
      ]
    },
    {
      "cell_type": "markdown",
      "source": [
        "**4.Weather Data Prediction.**"
      ],
      "metadata": {
        "id": "o-LPE-vSG-eG"
      }
    },
    {
      "cell_type": "code",
      "source": [
        "import numpy as np\n",
        "\n",
        "weather_data=np.array([\n",
        "    [30,60,5],\n",
        "    [32,65,6],\n",
        "    [31,63,7],\n",
        "    [29,70,4],\n",
        "    [33,68,5]\n",
        "])\n",
        "\n",
        "next_day_temp_data=np.array([31,32,30,29,34])\n",
        "\n",
        "weather_data_norm=(weather_data - weather_data.mean(axis=0))/weather_data.std(axis=0)\n",
        "\n",
        "X=np.c_[np.ones((weather_data_norm.shape[0],1)),weather_data_norm]\n",
        "y=next_day_temp_data\n",
        "\n",
        "weights=np.zeros(X.shape[1])\n",
        "learning_rate=0.01\n",
        "epochs=1000\n",
        "\n",
        "def mean_squared_error(y_true,y_pred):\n",
        "  return np.mean((y_true - y_pred)** 2)\n",
        "\n",
        "for epoch in range(epochs):\n",
        "  y_pred=np.dot(X,weights)\n",
        "  error=y_pred - y\n",
        "\n",
        "  grad=np.dot(X.T,error)/len(X)\n",
        "\n",
        "  weights=weights-learning_rate*grad\n",
        "\n",
        "  if epoch % 100==0:\n",
        "    loss=mean_squared_error(y,y_pred)\n",
        "    print(f\"Epoch{epoch},Loss:{loss:.4f}\")\n",
        "\n",
        "print(f\"Final Weights:{weights}\")\n",
        "\n",
        "new_day_data=np.array([32,65,6])\n",
        "new_day_data_norm=(new_day_data - weather_data.mean(axis=0))/weather_data.std(axis=0)\n",
        "new_day_data_bias=np.insert(new_day_data_norm,0,1)\n",
        "pred_temp=np.dot(new_day_data_bias,weights)\n",
        "print(f\"Predicted Next Day Temperature:{pred_temp:.2f}\")"
      ],
      "metadata": {
        "colab": {
          "base_uri": "https://localhost:8080/"
        },
        "id": "5o7g9FndHHBz",
        "outputId": "15737ede-49f2-4a6d-8ee5-2af7f30576ed"
      },
      "execution_count": null,
      "outputs": [
        {
          "output_type": "stream",
          "name": "stdout",
          "text": [
            "Epoch0,Loss:976.4000\n",
            "Epoch100,Loss:131.2303\n",
            "Epoch200,Loss:17.8241\n",
            "Epoch300,Loss:2.5186\n",
            "Epoch400,Loss:0.4075\n",
            "Epoch500,Loss:0.0923\n",
            "Epoch600,Loss:0.0328\n",
            "Epoch700,Loss:0.0156\n",
            "Epoch800,Loss:0.0084\n",
            "Epoch900,Loss:0.0048\n",
            "Final Weights:[31.19865306  1.95658269 -0.50925729 -0.94322283]\n",
            "Predicted Next Day Temperature:32.06\n"
          ]
        }
      ]
    }
  ]
}