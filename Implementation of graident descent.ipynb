{
 "cells": [
  {
   "cell_type": "code",
   "execution_count": 61,
   "id": "a611898d-86ca-430f-958a-5e6f1d92ddb1",
   "metadata": {},
   "outputs": [
    {
     "name": "stdout",
     "output_type": "stream",
     "text": [
      "Iteration=100, Weight=4.4119, Bias=-1.2664, Cost=8.8244\n",
      "Iteration=200, Weight=4.8681, Bias=-2.9135, Cost=5.8602\n",
      "Iteration=300, Weight=5.1933, Bias=-4.0875, Cost=4.3545\n",
      "Iteration=400, Weight=5.4250, Bias=-4.9242, Cost=3.5896\n",
      "Iteration=500, Weight=5.5902, Bias=-5.5206, Cost=3.2011\n",
      "Iteration=600, Weight=5.7079, Bias=-5.9456, Cost=3.0037\n",
      "Iteration=700, Weight=5.7918, Bias=-6.2485, Cost=2.9035\n",
      "Iteration=800, Weight=5.8516, Bias=-6.4644, Cost=2.8526\n",
      "Iteration=900, Weight=5.8943, Bias=-6.6183, Cost=2.8267\n",
      "Iteration=1000, Weight=5.9246, Bias=-6.7279, Cost=2.8136\n"
     ]
    }
   ],
   "source": [
    "import numpy as np\n",
    "\n",
    "\n",
    "x = np.array([1, 2, 3, 4, 5])\n",
    "y = np.array([1, 4, 9, 16, 25])\n",
    "\n",
    "w = 0\n",
    "b = 0\n",
    "l_rate = 0.01\n",
    "itr = 1000\n",
    "\n",
    "\n",
    "for i in range(itr):\n",
    "    y_pred = (w * x) + b\n",
    "    cost = np.mean((y - y_pred) ** 2)\n",
    "    \n",
    "    dw = -(2 / len(x)) * np.sum(x * (y - y_pred))\n",
    "    db = -(2 / len(x)) * np.sum(y - y_pred)\n",
    "    \n",
    "    w = w - l_rate * dw\n",
    "    b = b - l_rate * db\n",
    "\n",
    "    if (i+1)%100==0:\n",
    "        print(f\"Iteration={i+1}, Weight={w:.4f}, Bias={b:.4f}, Cost={cost:.4f}\")\n",
    "        "
   ]
  },
  {
   "cell_type": "code",
   "execution_count": 32,
   "id": "9c8ebb13-a5ca-4c3f-b95a-8753225280c2",
   "metadata": {},
   "outputs": [
    {
     "name": "stdout",
     "output_type": "stream",
     "text": [
      "Iteration=100, Weight=4.7461, Bias=0.9167, Cost=0.1540\n",
      "Iteration=200, Weight=4.8190, Bias=0.6534, Cost=0.0782\n",
      "Iteration=300, Weight=4.8710, Bias=0.4657, Cost=0.0397\n",
      "Iteration=400, Weight=4.9081, Bias=0.3319, Cost=0.0202\n",
      "Iteration=500, Weight=4.9345, Bias=0.2365, Cost=0.0103\n",
      "Iteration=600, Weight=4.9533, Bias=0.1686, Cost=0.0052\n",
      "Iteration=700, Weight=4.9667, Bias=0.1202, Cost=0.0026\n",
      "Iteration=800, Weight=4.9763, Bias=0.0856, Cost=0.0013\n",
      "Iteration=900, Weight=4.9831, Bias=0.0610, Cost=0.0007\n",
      "Iteration=1000, Weight=4.9880, Bias=0.0435, Cost=0.0003\n",
      "\n",
      "Final values - Weight=4.9880, Bias=0.0435\n",
      "Output for input 6: 29.9712\n"
     ]
    }
   ],
   "source": [
    "#1.Predict student score\n",
    "import numpy as np\n",
    "\n",
    "# Inputs\n",
    "stud_hours = np.array([1, 2, 3, 4, 5])\n",
    "stud_score = np.array([5, 10, 15, 20, 25])\n",
    "\n",
    "# Initialize values\n",
    "w = 0  # weight\n",
    "b = 0  # bias\n",
    "learn_rate = 0.01  # learning rate\n",
    "itr = 1000  # number of iterations\n",
    "\n",
    "# Gradient Descent\n",
    "for i in range(itr):\n",
    "    # Predict output\n",
    "    y_pred = (w * stud_hours) + b\n",
    "    \n",
    "    # MSE cost calculation\n",
    "    cost = np.mean((stud_score - y_pred) ** 2)\n",
    "    \n",
    "    # Derivatives of w and b\n",
    "    dw = -(2 / len(stud_hours)) * np.sum(stud_hours * (stud_score - y_pred))\n",
    "    db = -(2 / len(stud_hours)) * np.sum(stud_score - y_pred)\n",
    "    \n",
    "    # Updating values of w and b\n",
    "    w = w - learn_rate * dw\n",
    "    b = b - learn_rate * db\n",
    "\n",
    "    # Printing values\n",
    "    if (i + 1) % 100 == 0:\n",
    "        print(f\"Iteration={i + 1}, Weight={w:.4f}, Bias={b:.4f}, Cost={cost:.4f}\")\n",
    "\n",
    "# Output final values and prediction for input 5\n",
    "print(f\"\\nFinal values - Weight={w:.4f}, Bias={b:.4f}\")\n",
    "print(f\"Output for input 6: {w * 6 + b:.4f}\")\n",
    "\n"
   ]
  },
  {
   "cell_type": "code",
   "execution_count": 69,
   "id": "fadfbb77-480f-4519-a64a-1fbb12aa2464",
   "metadata": {},
   "outputs": [
    {
     "name": "stdout",
     "output_type": "stream",
     "text": [
      "Iteration=10000,Weight=0.0428,Bias=8.6086,Cost=85.04900059088592\n",
      "Iteration=20000,Weight=0.0054,Bias=14.2089,Cost=36.051497683695665\n",
      "Iteration=30000,Weight=-0.0189,Bias=17.8525,Cost=15.312007597685731\n",
      "Iteration=40000,Weight=-0.0348,Bias=20.2229,Cost=6.53346943743616\n",
      "Iteration=50000,Weight=-0.0451,Bias=21.7652,Cost=2.817720790224265\n",
      "Iteration=60000,Weight=-0.0518,Bias=22.7685,Cost=1.24493181816313\n",
      "Iteration=70000,Weight=-0.0561,Bias=23.4213,Cost=0.5792072534799859\n",
      "Iteration=80000,Weight=-0.0590,Bias=23.8460,Cost=0.2974217095225874\n",
      "Iteration=90000,Weight=-0.0608,Bias=24.1223,Cost=0.17814851908358434\n",
      "Values of weight=-0.0608,bias=24.1223\n",
      "Output for input 300= 5.881437883358561\n"
     ]
    }
   ],
   "source": [
    "#2.Predict the temperature\n",
    "import numpy as np\n",
    "#inputs\n",
    "altitude=np.array([1,50,100,150,200])\n",
    "temp=np.array([25,21,18,15,12])\n",
    "\n",
    "#init values \n",
    "w=0\n",
    "b=0\n",
    "learn_rate=0.000065\n",
    "itr=90000\n",
    "\n",
    "#graident descent\n",
    "for i in range(itr):\n",
    "    #predicting output\n",
    "    y_pred=(w*altitude)+b\n",
    "\n",
    "    #calulating the cost\n",
    "    cost=np.mean((temp-y_pred)**2)\n",
    "\n",
    "    #calcilating derivations\n",
    "    dw=-(2/len(altitude))*np.sum(altitude*(temp-y_pred))\n",
    "    db=-(2/len(altitude))*np.sum(temp-y_pred)\n",
    "\n",
    "    #adjusting weights and bias values\n",
    "    w=w-learn_rate*dw\n",
    "    b=b-learn_rate*db\n",
    "\n",
    "    #printing values\n",
    "    if ((i+1)%10000==0):\n",
    "        print(f\"Iteration={i+1},Weight={w:.4f},Bias={b:.4f},Cost={cost}\")\n",
    "\n",
    "#output tally\n",
    "input=300\n",
    "print(f\"Values of weight={w:.4f},bias={b:.4f}\")\n",
    "print(f\"Output for input 300=\",w*300+b)"
   ]
  },
  {
   "cell_type": "code",
   "execution_count": 1,
   "id": "a1672800-d140-40f4-bcc4-3f9c3c6dd052",
   "metadata": {},
   "outputs": [
    {
     "name": "stdout",
     "output_type": "stream",
     "text": [
      "Iteration=100, Weight=nan, Bias=nan, Cost=nan\n",
      "Iteration=200, Weight=nan, Bias=nan, Cost=nan\n",
      "Iteration=300, Weight=nan, Bias=nan, Cost=nan\n",
      "Iteration=400, Weight=nan, Bias=nan, Cost=nan\n",
      "Iteration=500, Weight=nan, Bias=nan, Cost=nan\n",
      "Iteration=600, Weight=nan, Bias=nan, Cost=nan\n",
      "Iteration=700, Weight=nan, Bias=nan, Cost=nan\n",
      "Iteration=800, Weight=nan, Bias=nan, Cost=nan\n",
      "Iteration=900, Weight=nan, Bias=nan, Cost=nan\n",
      "Iteration=1000, Weight=nan, Bias=nan, Cost=nan\n",
      "\n",
      "Final Model: P = nan * S + nan\n",
      "Predicted Price for a 1400 sq ft house: $nan\n"
     ]
    },
    {
     "name": "stderr",
     "output_type": "stream",
     "text": [
      "C:\\Users\\Atharv\\AppData\\Local\\Temp\\ipykernel_35612\\2241359633.py:19: RuntimeWarning: overflow encountered in square\n",
      "  cost = np.mean((house_prices - y_pred) ** 2)\n",
      "C:\\Users\\Atharv\\AppData\\Local\\Temp\\ipykernel_35612\\2241359633.py:22: RuntimeWarning: overflow encountered in multiply\n",
      "  dw = -(2 / len(house_sizes)) * np.sum(house_sizes * (house_prices - y_pred))\n",
      "C:\\Users\\Atharv\\AppData\\Local\\Temp\\ipykernel_35612\\2241359633.py:26: RuntimeWarning: invalid value encountered in scalar subtract\n",
      "  w -= learning_rate * dw\n"
     ]
    }
   ],
   "source": [
    "import numpy as np\n",
    "\n",
    "# Example dataset: House sizes (square feet) and prices\n",
    "house_sizes = np.array([750, 850, 950, 1150, 1400])  # Independent variable\n",
    "house_prices = np.array([1500, 1700, 2000, 2500, 3000])  # Dependent variable\n",
    "\n",
    "# Initialize parameters\n",
    "w = 0  # Weight (slope)\n",
    "b = 0  # Bias (intercept)\n",
    "learning_rate = 0.01  # Adjusted learning rate\n",
    "iterations = 1000  # Reduced iterations for faster testing\n",
    "\n",
    "# Gradient descent loop\n",
    "for i in range(iterations):\n",
    "    # Predictions\n",
    "    y_pred = (w * house_sizes) + b\n",
    "    \n",
    "    # Compute Mean Squared Error (MSE) cost\n",
    "    cost = np.mean((house_prices - y_pred) ** 2)\n",
    "    \n",
    "    # Compute gradients\n",
    "    dw = -(2 / len(house_sizes)) * np.sum(house_sizes * (house_prices - y_pred))\n",
    "    db = -(2 / len(house_sizes)) * np.sum(house_prices - y_pred)\n",
    "    \n",
    "    # Update parameters\n",
    "    w -= learning_rate * dw\n",
    "    b -= learning_rate * db\n",
    "    \n",
    "    # Print progress every 1000 iterations\n",
    "    if (i + 1) % 100 == 0:\n",
    "        print(f\"Iteration={i+1}, Weight={w:.4f}, Bias={b:.4f}, Cost={cost:.2f}\")\n",
    "\n",
    "# Final parameters\n",
    "print(f\"\\nFinal Model: P = {w:.4f} * S + {b:.4f}\")\n",
    "\n",
    "\n",
    "# Predict the price of a house based on its size\n",
    "new_house_size = 1400  # Example house size in square feet\n",
    "predicted_price = (w * new_house_size) + b\n",
    "print(f\"Predicted Price for a {new_house_size} sq ft house: ${predicted_price:.2f}\")\n"
   ]
  },
  {
   "cell_type": "code",
   "execution_count": null,
   "id": "76b7bd65-ee13-4cd1-bb3d-2aa566454720",
   "metadata": {},
   "outputs": [],
   "source": []
  }
 ],
 "metadata": {
  "kernelspec": {
   "display_name": "Python 3 (ipykernel)",
   "language": "python",
   "name": "python3"
  },
  "language_info": {
   "codemirror_mode": {
    "name": "ipython",
    "version": 3
   },
   "file_extension": ".py",
   "mimetype": "text/x-python",
   "name": "python",
   "nbconvert_exporter": "python",
   "pygments_lexer": "ipython3",
   "version": "3.11.4"
  }
 },
 "nbformat": 4,
 "nbformat_minor": 5
}
