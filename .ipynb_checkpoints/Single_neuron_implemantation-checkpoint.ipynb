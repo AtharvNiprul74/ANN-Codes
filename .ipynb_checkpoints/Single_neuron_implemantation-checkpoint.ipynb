{
 "cells": [
  {
   "cell_type": "code",
   "execution_count": 1,
   "id": "aa45f817-4840-4cf4-ad46-7c560394a80f",
   "metadata": {},
   "outputs": [
    {
     "name": "stdout",
     "output_type": "stream",
     "text": [
      "Output of neuron= 1\n"
     ]
    }
   ],
   "source": [
    "# implementation of single neuron.\n",
    "def single_neuron(inputs,weights,bias):\n",
    "    weighted_sum=0;\n",
    "    for i in range(len(inputs)):\n",
    "        weighted_sum+=inputs[i]*weights[i]\n",
    "    weighted_sum+=bias;\n",
    "\n",
    "    # step activation function\n",
    "    if weighted_sum>=0:\n",
    "        output=1;\n",
    "    else:\n",
    "        output=0;\n",
    "    return output\n",
    "inputs=[1,1]\n",
    "weights=[2,3]\n",
    "bias=1\n",
    "output=single_neuron(inputs,weights,bias);\n",
    "print(\"Output of neuron=\",output)"
   ]
  },
  {
   "cell_type": "code",
   "execution_count": 10,
   "id": "37ea697c-9c79-444e-a665-a68b7d71d11c",
   "metadata": {},
   "outputs": [
    {
     "name": "stdout",
     "output_type": "stream",
     "text": [
      "Output of and gate neuron= 1\n"
     ]
    }
   ],
   "source": [
    "#implementation of AND gate.\n",
    "def and_gate_neuron(inputs,weights,bias):\n",
    "    weighted_sum=0\n",
    "    for i in range(len(inputs)):\n",
    "        weighted_sum+=inputs[i]*weights[i]\n",
    "    weighted_sum+=bias;\n",
    "\n",
    "    #step activation function\n",
    "    if weighted_sum>=0:\n",
    "        output=1\n",
    "    else:\n",
    "        output=0\n",
    "    return output\n",
    "inputs=[0,0]\n",
    "# inputs=[0,1]\n",
    "# inputs=[1,0]\n",
    "# inputs=[1,1]\n",
    "# weights=[2,3]\n",
    "bias=1\n",
    "output=and_gate_neuron(inputs,weights,bias)\n",
    "print(\"Output of and gate neuron=\",output)"
   ]
  },
  {
   "cell_type": "code",
   "execution_count": 17,
   "id": "b722899e-2eea-4911-b581-edac8bac8935",
   "metadata": {},
   "outputs": [
    {
     "name": "stdout",
     "output_type": "stream",
     "text": [
      "Output of or gate neuron= 0\n"
     ]
    }
   ],
   "source": [
    "#implementation of OR gate.\n",
    "def or_gate_neuron(inputs,weights,bias):\n",
    "    weighted_sum=0\n",
    "    for i in range(len(inputs)):\n",
    "        weighted_sum+=inputs[i]*weights[i]\n",
    "    weighted_sum+=bias;\n",
    "\n",
    "    #step activation function\n",
    "    if weighted_sum>=0:\n",
    "        output=1\n",
    "    else:\n",
    "        output=0\n",
    "    return output\n",
    "inputs=[0,0]\n",
    "# inputs=[0,1]\n",
    "# inputs=[1,0]\n",
    "# inputs=[1,1]\n",
    "weights=[1,1]\n",
    "bias=-1\n",
    "output=or_gate_neuron(inputs,weights,bias)\n",
    "print(\"Output of or gate neuron=\",output)"
   ]
  },
  {
   "cell_type": "code",
   "execution_count": 19,
   "id": "b1c257ef-258a-40fb-93af-784cd302702a",
   "metadata": {},
   "outputs": [
    {
     "name": "stdout",
     "output_type": "stream",
     "text": [
      "Output of not gate neuron= 0\n"
     ]
    }
   ],
   "source": [
    "#implementation of Not gate.\n",
    "def not_gate_neuron(inputs,weights,bias):\n",
    "    weighted_sum=0\n",
    "    for i in range(len(inputs)):\n",
    "        weighted_sum+=inputs[i]*weights[i]\n",
    "    weighted_sum+=bias;\n",
    "\n",
    "    #step activation function\n",
    "    if weighted_sum>=0:\n",
    "        output=1\n",
    "    else:\n",
    "        output=0\n",
    "    return output\n",
    "# inputs=[0]\n",
    "inputs=[1]\n",
    "weights=[-0.8]\n",
    "bias=0.6\n",
    "output=not_gate_neuron(inputs,weights,bias)\n",
    "print(\"Output of not gate neuron=\",output)"
   ]
  },
  {
   "cell_type": "code",
   "execution_count": 26,
   "id": "5450e4b3-bb57-47e0-a289-d091efde3a8b",
   "metadata": {},
   "outputs": [
    {
     "name": "stdout",
     "output_type": "stream",
     "text": [
      "Output of nand gate neuron= 0\n"
     ]
    }
   ],
   "source": [
    "#implementation of Nand gate.\n",
    "def nand_gate_neuron(inputs,weights,bias):\n",
    "    weighted_sum=0\n",
    "    for i in range(len(inputs)):\n",
    "        weighted_sum+=inputs[i]*weights[i]\n",
    "    weighted_sum+=bias;\n",
    "\n",
    "    #step activation function\n",
    "    if weighted_sum>=0:\n",
    "        output=1\n",
    "    else:\n",
    "        output=0\n",
    "    return output\n",
    "# inputs=[0,0]\n",
    "# inputs=[0,1]\n",
    "# inputs=[1,0]\n",
    "# inputs=[1,1]\n",
    "weights=[-1.5,-1.5]\n",
    "bias=1.5\n",
    "output=nand_gate_neuron(inputs,weights,bias)\n",
    "print(\"Output of nand gate neuron=\",output)"
   ]
  },
  {
   "cell_type": "code",
   "execution_count": 30,
   "id": "06149d96-0cdf-4446-b11e-c01a66097f1c",
   "metadata": {},
   "outputs": [
    {
     "name": "stdout",
     "output_type": "stream",
     "text": [
      "Output of nor gate neuron= 0\n"
     ]
    }
   ],
   "source": [
    "#implementation of Nor gate.\n",
    "def nor_gate_neuron(inputs,weights,bias):\n",
    "    weighted_sum=0\n",
    "    for i in range(len(inputs)):\n",
    "        weighted_sum+=inputs[i]*weights[i]\n",
    "    weighted_sum+=bias;\n",
    "\n",
    "    #step activation function\n",
    "    if weighted_sum>=0:\n",
    "        output=1\n",
    "    else:\n",
    "        output=0\n",
    "    return output\n",
    "# inputs=[0,0]\n",
    "# inputs=[0,1]\n",
    "# inputs=[1,0]\n",
    "# inputs=[1,1]\n",
    "weights=[-1.5,-1.5]\n",
    "bias=1\n",
    "output=nor_gate_neuron(inputs,weights,bias)\n",
    "print(\"Output of nor gate neuron=\",output)"
   ]
  },
  {
   "cell_type": "code",
   "execution_count": null,
   "id": "fdaee413-aca7-47f6-a80e-3b89c98218ad",
   "metadata": {},
   "outputs": [],
   "source": []
  }
 ],
 "metadata": {
  "kernelspec": {
   "display_name": "Python 3 (ipykernel)",
   "language": "python",
   "name": "python3"
  },
  "language_info": {
   "codemirror_mode": {
    "name": "ipython",
    "version": 3
   },
   "file_extension": ".py",
   "mimetype": "text/x-python",
   "name": "python",
   "nbconvert_exporter": "python",
   "pygments_lexer": "ipython3",
   "version": "3.11.4"
  }
 },
 "nbformat": 4,
 "nbformat_minor": 5
}
